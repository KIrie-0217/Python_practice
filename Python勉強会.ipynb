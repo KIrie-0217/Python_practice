{
  "nbformat": 4,
  "nbformat_minor": 0,
  "metadata": {
    "colab": {
      "name": "Python勉強会.ipynb",
      "provenance": [],
      "collapsed_sections": [],
      "authorship_tag": "ABX9TyN4GB1wwaxUGV3EiBsMw4fS",
      "include_colab_link": true
    },
    "kernelspec": {
      "name": "python3",
      "display_name": "Python 3"
    },
    "language_info": {
      "name": "python"
    }
  },
  "cells": [
    {
      "cell_type": "markdown",
      "metadata": {
        "id": "view-in-github",
        "colab_type": "text"
      },
      "source": [
        "<a href=\"https://colab.research.google.com/github/KIrie-0217/Python_practice/blob/master/Python%E5%8B%89%E5%BC%B7%E4%BC%9A.ipynb\" target=\"_parent\"><img src=\"https://colab.research.google.com/assets/colab-badge.svg\" alt=\"Open In Colab\"/></a>"
      ]
    },
    {
      "cell_type": "markdown",
      "metadata": {
        "id": "x47FYP360ovC"
      },
      "source": [
        "# Python勉強会\n",
        "\n",
        "1. python基本\n",
        "2. 画像処理の基本・必要な物\n",
        "3. 画像処理してみる "
      ]
    },
    {
      "cell_type": "markdown",
      "metadata": {
        "id": "XJUZDx4g3JPQ"
      },
      "source": [
        "## 1. Python基本\n",
        "\n",
        "- コメントアウトは＃\n",
        "- 型の指定は不要！\n",
        "- 変数の同時挿入が便利\n"
      ]
    },
    {
      "cell_type": "markdown",
      "metadata": {
        "id": "93hd7BvH4hJf"
      },
      "source": [
        "### 変数\n",
        "\n",
        "Pythonはメチャクチャ簡単、型を指定しなくても勝手に推論してくれる"
      ]
    },
    {
      "cell_type": "code",
      "metadata": {
        "colab": {
          "base_uri": "https://localhost:8080/"
        },
        "id": "462h_yBF3Hne",
        "outputId": "35fbc52b-9533-411d-9014-4440e93e2dfc"
      },
      "source": [
        "a = 1\n",
        "b = 1.2\n",
        "c = \"Tenma\"\n",
        "d = [1,2,3]\n",
        "\n",
        "#型を指定して代入すれば当然型指定もできる\n",
        "e = float(1)\n",
        "\n",
        "\n",
        "print(\"a is\" ,a,\":\",type(a))\n",
        "print(\"b is\" ,b,\":\",type(b))\n",
        "print(\"c is\" ,c,\":\",type(c))\n",
        "print(\"d is\" ,d,\":\",type(d))\n",
        "print(\"e is\" ,e,\":\",type(e))"
      ],
      "execution_count": null,
      "outputs": [
        {
          "output_type": "stream",
          "text": [
            "a is 1 : <class 'int'>\n",
            "b is 1.2 : <class 'float'>\n",
            "c is Tenma : <class 'str'>\n",
            "d is [1, 2, 3] : <class 'list'>\n",
            "e is 1.0 : <class 'float'>\n"
          ],
          "name": "stdout"
        }
      ]
    },
    {
      "cell_type": "markdown",
      "metadata": {
        "id": "tDYKkyEB68jy"
      },
      "source": [
        "変数の同時挿入が便利"
      ]
    },
    {
      "cell_type": "code",
      "metadata": {
        "colab": {
          "base_uri": "https://localhost:8080/"
        },
        "id": "45VoqBnt6_YA",
        "outputId": "21572099-8aa8-47c7-dfed-3a160e60d70f"
      },
      "source": [
        "a,b,c = 1,1.2,\"Tenma\"\n",
        "\n",
        "print(\"a is\" ,a,\":\",type(a))\n",
        "print(\"b is\" ,b,\":\",type(b))\n",
        "print(\"c is\" ,c,\":\",type(c))"
      ],
      "execution_count": null,
      "outputs": [
        {
          "output_type": "stream",
          "text": [
            "a is 1 : <class 'int'>\n",
            "b is 1.2 : <class 'float'>\n",
            "c is Tenma : <class 'str'>\n"
          ],
          "name": "stdout"
        }
      ]
    },
    {
      "cell_type": "markdown",
      "metadata": {
        "id": "nfODIVDQ8F5h"
      },
      "source": [
        "### 制御構文\n",
        "\n",
        "- if\n",
        "- for\n",
        "- while\n"
      ]
    },
    {
      "cell_type": "markdown",
      "metadata": {
        "id": "7seAoPbz8ahR"
      },
      "source": [
        "Pythonではインデントでネストしていく  \n",
        "ちなみにPythonのforループはめちゃくちゃ遅い  \n",
        "多重ネストはしすぎないほうがいい"
      ]
    },
    {
      "cell_type": "markdown",
      "metadata": {
        "id": "spgGUCY69hFT"
      },
      "source": [
        "#### if"
      ]
    },
    {
      "cell_type": "code",
      "metadata": {
        "colab": {
          "base_uri": "https://localhost:8080/"
        },
        "id": "8optDzEe8nS2",
        "outputId": "9083e12c-b91d-4439-cab3-7d6d50f81a25"
      },
      "source": [
        "a = 1\n",
        "b = 2\n",
        "\n",
        "if b > a:\n",
        "  print(\"b > a\")\n"
      ],
      "execution_count": null,
      "outputs": [
        {
          "output_type": "stream",
          "text": [
            "b > a\n"
          ],
          "name": "stdout"
        }
      ]
    },
    {
      "cell_type": "markdown",
      "metadata": {
        "id": "vXvaSqNd9j53"
      },
      "source": [
        "#### for"
      ]
    },
    {
      "cell_type": "code",
      "metadata": {
        "colab": {
          "base_uri": "https://localhost:8080/"
        },
        "id": "DFTuWnA29Dzp",
        "outputId": "9f2dca78-1c34-49c8-d6cd-c1f44b680e3c"
      },
      "source": [
        "c = [1,2,3,4,5,\"end\"]\n",
        "\n",
        "for i in c:\n",
        "  print(i)\n",
        "\n",
        "#range型にするとn番目の指定がしやすい\n",
        "for i in range(len(c)):\n",
        "  print(i,\":\",c[i])"
      ],
      "execution_count": null,
      "outputs": [
        {
          "output_type": "stream",
          "text": [
            "1\n",
            "2\n",
            "3\n",
            "4\n",
            "5\n",
            "end\n",
            "0 : 1\n",
            "1 : 2\n",
            "2 : 3\n",
            "3 : 4\n",
            "4 : 5\n",
            "5 : end\n"
          ],
          "name": "stdout"
        }
      ]
    },
    {
      "cell_type": "markdown",
      "metadata": {
        "id": "Zt10tODy-E4n"
      },
      "source": [
        "while"
      ]
    },
    {
      "cell_type": "code",
      "metadata": {
        "colab": {
          "base_uri": "https://localhost:8080/"
        },
        "id": "Xmmzq0S5-HLJ",
        "outputId": "7ba33c49-22f4-407a-9007-81bdef90f211"
      },
      "source": [
        "# while hoge : hogeがTrueならループ\n",
        "d = 0\n",
        "while d < 4:\n",
        "  print(d)\n",
        "  d += 1"
      ],
      "execution_count": null,
      "outputs": [
        {
          "output_type": "stream",
          "text": [
            "0\n",
            "1\n",
            "2\n",
            "3\n"
          ],
          "name": "stdout"
        }
      ]
    },
    {
      "cell_type": "markdown",
      "metadata": {
        "id": "rSIl6b5o-hj-"
      },
      "source": [
        "### 関数\n",
        "\n",
        "- def 関数名(引数): 処理 で作成"
      ]
    },
    {
      "cell_type": "code",
      "metadata": {
        "id": "VparugZG-vjv"
      },
      "source": [
        "def Nakigoe(animal):\n",
        "  if animal[\"Category\"] is \"dog\":\n",
        "    nakigoe = \"bow wow\"\n",
        "  \n",
        "  elif animal[\"Category\"] is \"bird\":\n",
        "    nakigoe = \"chirp chirp\"\n",
        "\n",
        "  animal[\"Nakigoe\"] = nakigoe\n",
        "  return animal"
      ],
      "execution_count": null,
      "outputs": []
    },
    {
      "cell_type": "code",
      "metadata": {
        "colab": {
          "base_uri": "https://localhost:8080/"
        },
        "id": "7uFWkNcq_YjH",
        "outputId": "262c2fbf-9ea9-450d-8721-c46ce4441e26"
      },
      "source": [
        "Tenma = {\"Age\":3, \"Category\":\"dog\"}\n",
        "print(Nakigoe(Tenma))\n",
        "\n"
      ],
      "execution_count": null,
      "outputs": [
        {
          "output_type": "stream",
          "text": [
            "{'Age': 3, 'Category': 'dog', 'Nakigoe': 'bow wow'}\n"
          ],
          "name": "stdout"
        }
      ]
    },
    {
      "cell_type": "markdown",
      "metadata": {
        "id": "EbF85ka8B71t"
      },
      "source": [
        "- globalを入れることでglobal関数として処理ができる"
      ]
    },
    {
      "cell_type": "code",
      "metadata": {
        "id": "YHulctHSB5lm"
      },
      "source": [
        "def not_global(values):\n",
        "  a = 1\n",
        "  values += a\n",
        "  return values\n",
        "\n",
        "def is_global(values):\n",
        "  global a \n",
        "  a = 1\n",
        "  values += a\n",
        "  return values "
      ],
      "execution_count": null,
      "outputs": []
    },
    {
      "cell_type": "code",
      "metadata": {
        "colab": {
          "base_uri": "https://localhost:8080/"
        },
        "id": "Xn5CFrzuCXxe",
        "outputId": "e2fa793c-8bcf-4d00-d4b6-7268d56193d7"
      },
      "source": [
        "a = 2\n",
        "b = 7\n",
        "\n",
        "# global関数に指定しないとaの値は変わらない\n",
        "c = not_global(b)\n",
        "print(a,c)\n",
        "\n",
        "# global関数に指定するとaの値も変わる\n",
        "c = is_global(b)\n",
        "print(a,c)"
      ],
      "execution_count": null,
      "outputs": [
        {
          "output_type": "stream",
          "text": [
            "2 8\n",
            "1 8\n"
          ],
          "name": "stdout"
        }
      ]
    },
    {
      "cell_type": "markdown",
      "metadata": {
        "id": "vffrqlTkDAf5"
      },
      "source": [
        "## 2. 画像処理の基本・必要なもの"
      ]
    },
    {
      "cell_type": "code",
      "metadata": {
        "id": "INu5718H0nZw"
      },
      "source": [
        "import numpy\n",
        "import matplotlib\n",
        "import cv2\n"
      ],
      "execution_count": null,
      "outputs": []
    },
    {
      "cell_type": "code",
      "metadata": {
        "id": "7E3ikoth3BnI"
      },
      "source": [
        ""
      ],
      "execution_count": null,
      "outputs": []
    }
  ]
}