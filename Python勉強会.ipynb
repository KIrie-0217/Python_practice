{
  "nbformat": 4,
  "nbformat_minor": 0,
  "metadata": {
    "colab": {
      "name": "Python勉強会.ipynb",
      "provenance": [],
      "collapsed_sections": [],
      "authorship_tag": "ABX9TyM7bkaHCCV1hwSAkacU5iiP",
      "include_colab_link": true
    },
    "kernelspec": {
      "name": "python3",
      "display_name": "Python 3"
    },
    "language_info": {
      "name": "python"
    }
  },
  "cells": [
    {
      "cell_type": "markdown",
      "metadata": {
        "id": "view-in-github",
        "colab_type": "text"
      },
      "source": [
        "<a href=\"https://colab.research.google.com/github/KIrie-0217/Python_practice/blob/master/Python%E5%8B%89%E5%BC%B7%E4%BC%9A.ipynb\" target=\"_parent\"><img src=\"https://colab.research.google.com/assets/colab-badge.svg\" alt=\"Open In Colab\"/></a>"
      ]
    },
    {
      "cell_type": "markdown",
      "metadata": {
        "id": "x47FYP360ovC"
      },
      "source": [
        "# Python勉強会\n",
        "\n",
        "1. python基本\n",
        "2. 画像処理の基本・必要な物\n",
        "3. 画像処理してみる "
      ]
    },
    {
      "cell_type": "markdown",
      "metadata": {
        "id": "XJUZDx4g3JPQ"
      },
      "source": [
        "## 1. Python基本\n",
        "\n",
        "- コメントアウトは＃\n",
        "- 型の指定は不要！\n",
        "- 変数の同時挿入が便利\n"
      ]
    },
    {
      "cell_type": "markdown",
      "metadata": {
        "id": "93hd7BvH4hJf"
      },
      "source": [
        "### 変数\n",
        "\n",
        "Pythonはメチャクチャ簡単、型を指定しなくても勝手に推論してくれる"
      ]
    },
    {
      "cell_type": "code",
      "metadata": {
        "colab": {
          "base_uri": "https://localhost:8080/"
        },
        "id": "462h_yBF3Hne",
        "outputId": "35fbc52b-9533-411d-9014-4440e93e2dfc"
      },
      "source": [
        "a = 1\n",
        "b = 1.2\n",
        "c = \"Tenma\"\n",
        "d = [1,2,3]\n",
        "\n",
        "#型を指定して代入すれば当然型指定もできる\n",
        "e = float(1)\n",
        "\n",
        "\n",
        "print(\"a is\" ,a,\":\",type(a))\n",
        "print(\"b is\" ,b,\":\",type(b))\n",
        "print(\"c is\" ,c,\":\",type(c))\n",
        "print(\"d is\" ,d,\":\",type(d))\n",
        "print(\"e is\" ,e,\":\",type(e))"
      ],
      "execution_count": null,
      "outputs": [
        {
          "output_type": "stream",
          "text": [
            "a is 1 : <class 'int'>\n",
            "b is 1.2 : <class 'float'>\n",
            "c is Tenma : <class 'str'>\n",
            "d is [1, 2, 3] : <class 'list'>\n",
            "e is 1.0 : <class 'float'>\n"
          ],
          "name": "stdout"
        }
      ]
    },
    {
      "cell_type": "markdown",
      "metadata": {
        "id": "tDYKkyEB68jy"
      },
      "source": [
        "変数の同時挿入が便利"
      ]
    },
    {
      "cell_type": "code",
      "metadata": {
        "colab": {
          "base_uri": "https://localhost:8080/"
        },
        "id": "45VoqBnt6_YA",
        "outputId": "21572099-8aa8-47c7-dfed-3a160e60d70f"
      },
      "source": [
        "a,b,c = 1,1.2,\"Tenma\"\n",
        "\n",
        "print(\"a is\" ,a,\":\",type(a))\n",
        "print(\"b is\" ,b,\":\",type(b))\n",
        "print(\"c is\" ,c,\":\",type(c))"
      ],
      "execution_count": null,
      "outputs": [
        {
          "output_type": "stream",
          "text": [
            "a is 1 : <class 'int'>\n",
            "b is 1.2 : <class 'float'>\n",
            "c is Tenma : <class 'str'>\n"
          ],
          "name": "stdout"
        }
      ]
    },
    {
      "cell_type": "markdown",
      "metadata": {
        "id": "nfODIVDQ8F5h"
      },
      "source": [
        "### 制御構文\n",
        "\n",
        "- if\n",
        "- for\n",
        "- while\n"
      ]
    },
    {
      "cell_type": "markdown",
      "metadata": {
        "id": "7seAoPbz8ahR"
      },
      "source": [
        "Pythonではインデントでネストしていく  \n",
        "ちなみにPythonのforループはめちゃくちゃ遅い  \n",
        "多重ネストはしすぎないほうがいい"
      ]
    },
    {
      "cell_type": "markdown",
      "metadata": {
        "id": "spgGUCY69hFT"
      },
      "source": [
        "#### if"
      ]
    },
    {
      "cell_type": "code",
      "metadata": {
        "colab": {
          "base_uri": "https://localhost:8080/"
        },
        "id": "8optDzEe8nS2",
        "outputId": "9083e12c-b91d-4439-cab3-7d6d50f81a25"
      },
      "source": [
        "a = 1\n",
        "b = 2\n",
        "\n",
        "if b > a:\n",
        "  print(\"b > a\")\n"
      ],
      "execution_count": null,
      "outputs": [
        {
          "output_type": "stream",
          "text": [
            "b > a\n"
          ],
          "name": "stdout"
        }
      ]
    },
    {
      "cell_type": "markdown",
      "metadata": {
        "id": "vXvaSqNd9j53"
      },
      "source": [
        "#### for"
      ]
    },
    {
      "cell_type": "code",
      "metadata": {
        "colab": {
          "base_uri": "https://localhost:8080/"
        },
        "id": "DFTuWnA29Dzp",
        "outputId": "9f2dca78-1c34-49c8-d6cd-c1f44b680e3c"
      },
      "source": [
        "c = [1,2,3,4,5,\"end\"]\n",
        "\n",
        "for i in c:\n",
        "  print(i)\n",
        "\n",
        "#range型にするとn番目の指定がしやすい\n",
        "for i in range(len(c)):\n",
        "  print(i,\":\",c[i])"
      ],
      "execution_count": null,
      "outputs": [
        {
          "output_type": "stream",
          "text": [
            "1\n",
            "2\n",
            "3\n",
            "4\n",
            "5\n",
            "end\n",
            "0 : 1\n",
            "1 : 2\n",
            "2 : 3\n",
            "3 : 4\n",
            "4 : 5\n",
            "5 : end\n"
          ],
          "name": "stdout"
        }
      ]
    },
    {
      "cell_type": "markdown",
      "metadata": {
        "id": "Zt10tODy-E4n"
      },
      "source": [
        "while"
      ]
    },
    {
      "cell_type": "code",
      "metadata": {
        "colab": {
          "base_uri": "https://localhost:8080/"
        },
        "id": "Xmmzq0S5-HLJ",
        "outputId": "7ba33c49-22f4-407a-9007-81bdef90f211"
      },
      "source": [
        "# while hoge : hogeがTrueならループ\n",
        "d = 0\n",
        "while d < 4:\n",
        "  print(d)\n",
        "  d += 1"
      ],
      "execution_count": null,
      "outputs": [
        {
          "output_type": "stream",
          "text": [
            "0\n",
            "1\n",
            "2\n",
            "3\n"
          ],
          "name": "stdout"
        }
      ]
    },
    {
      "cell_type": "markdown",
      "metadata": {
        "id": "rSIl6b5o-hj-"
      },
      "source": [
        "### 関数\n",
        "\n",
        "- def 関数名(引数): 処理 で作成"
      ]
    },
    {
      "cell_type": "code",
      "metadata": {
        "id": "VparugZG-vjv"
      },
      "source": [
        "def Nakigoe(animal):\n",
        "  if animal[\"Category\"] is \"dog\":\n",
        "    nakigoe = \"bow wow\"\n",
        "  \n",
        "  elif animal[\"Category\"] is \"bird\":\n",
        "    nakigoe = \"chirp chirp\"\n",
        "\n",
        "  animal[\"Nakigoe\"] = nakigoe\n",
        "  return animal"
      ],
      "execution_count": null,
      "outputs": []
    },
    {
      "cell_type": "code",
      "metadata": {
        "colab": {
          "base_uri": "https://localhost:8080/"
        },
        "id": "7uFWkNcq_YjH",
        "outputId": "262c2fbf-9ea9-450d-8721-c46ce4441e26"
      },
      "source": [
        "Tenma = {\"Age\":3, \"Category\":\"dog\"}\n",
        "print(Nakigoe(Tenma))\n",
        "\n"
      ],
      "execution_count": null,
      "outputs": [
        {
          "output_type": "stream",
          "text": [
            "{'Age': 3, 'Category': 'dog', 'Nakigoe': 'bow wow'}\n"
          ],
          "name": "stdout"
        }
      ]
    },
    {
      "cell_type": "markdown",
      "metadata": {
        "id": "EbF85ka8B71t"
      },
      "source": [
        "- globalを入れることでglobal関数として処理ができる"
      ]
    },
    {
      "cell_type": "code",
      "metadata": {
        "id": "YHulctHSB5lm"
      },
      "source": [
        "def not_global(values):\n",
        "  a = 1\n",
        "  values += a\n",
        "  return values\n",
        "\n",
        "def is_global(values):\n",
        "  global a \n",
        "  a = 1\n",
        "  values += a\n",
        "  return values "
      ],
      "execution_count": null,
      "outputs": []
    },
    {
      "cell_type": "code",
      "metadata": {
        "colab": {
          "base_uri": "https://localhost:8080/"
        },
        "id": "Xn5CFrzuCXxe",
        "outputId": "e2fa793c-8bcf-4d00-d4b6-7268d56193d7"
      },
      "source": [
        "a = 2\n",
        "b = 7\n",
        "\n",
        "# global関数に指定しないとaの値は変わらない\n",
        "c = not_global(b)\n",
        "print(a,c)\n",
        "\n",
        "# global関数に指定するとaの値も変わる\n",
        "c = is_global(b)\n",
        "print(a,c)"
      ],
      "execution_count": null,
      "outputs": [
        {
          "output_type": "stream",
          "text": [
            "2 8\n",
            "1 8\n"
          ],
          "name": "stdout"
        }
      ]
    },
    {
      "cell_type": "markdown",
      "metadata": {
        "id": "vffrqlTkDAf5"
      },
      "source": [
        "## 2. 画像処理の基本・必要なもの\n",
        "\n",
        "- numpy : 行列計算には必須・リスト型より超便利,deep learningなどに\n",
        "- matplotlib : グラフツール・画像処理ではそんな使わないかも\n",
        "- OpenCV : 画像表示・処理、必須アイテム"
      ]
    },
    {
      "cell_type": "markdown",
      "metadata": {
        "id": "PZxhd7Gg3hxQ"
      },
      "source": [
        "### import"
      ]
    },
    {
      "cell_type": "code",
      "metadata": {
        "id": "INu5718H0nZw"
      },
      "source": [
        "# numpy をnpという名前でインポート\n",
        "import numpy as np\n",
        "\n",
        "# matplotlibをpltという名前でインポート\n",
        "import matplotlib as plt\n",
        "\n",
        "# OpenCV import\n",
        "import cv2 \n"
      ],
      "execution_count": 2,
      "outputs": []
    },
    {
      "cell_type": "markdown",
      "metadata": {
        "id": "Ubh7hNGf4ydL"
      },
      "source": [
        "### numpy\n"
      ]
    },
    {
      "cell_type": "code",
      "metadata": {
        "colab": {
          "base_uri": "https://localhost:8080/"
        },
        "id": "9BJ-5qR14zvy",
        "outputId": "144d8584-3ac4-4773-caa1-ef284907eb12"
      },
      "source": [
        "# 行列の定義\n",
        "\n",
        "# 1x3 行列 \n",
        "a = np.array([1,2,3])\n",
        "\n",
        "# 3x3 行列\n",
        "b = np.array([\n",
        "              [1,2,3],\n",
        "              [4,5,6],\n",
        "              [7,8,9]\n",
        "              ])\n",
        "\n",
        "\n",
        "print(\"a:\",a)\n",
        "print(\"---\")\n",
        "print(\"b:\",b)\n"
      ],
      "execution_count": 10,
      "outputs": [
        {
          "output_type": "stream",
          "text": [
            "a: [1 2 3]\n",
            "---\n",
            "b: [[1 2 3]\n",
            " [4 5 6]\n",
            " [7 8 9]]\n"
          ],
          "name": "stdout"
        }
      ]
    },
    {
      "cell_type": "code",
      "metadata": {
        "colab": {
          "base_uri": "https://localhost:8080/"
        },
        "id": "xzaNsxb44711",
        "outputId": "e6329996-5197-4a6e-9083-e6a915a6d23d"
      },
      "source": [
        "# 行列のサイズ 変数名.size\n",
        "print(\"SIZE:\",b.size)\n",
        "\n",
        "# 行列のランク 変数名.ndim\n",
        "print(\"RANK:\",b.ndim)\n",
        "\n",
        "# 行列の形 変数名.shape\n",
        "print(\"SHAPE:\",b.shape)"
      ],
      "execution_count": 13,
      "outputs": [
        {
          "output_type": "stream",
          "text": [
            "SIZE: 9\n",
            "RANK: 2\n",
            "SHAPE: (3, 3)\n"
          ],
          "name": "stdout"
        }
      ]
    },
    {
      "cell_type": "code",
      "metadata": {
        "colab": {
          "base_uri": "https://localhost:8080/"
        },
        "id": "jsHwUKAF6tag",
        "outputId": "e3d7bccb-67a2-4685-c622-eb61316267fc"
      },
      "source": [
        "# 要素が0の3x3行列\n",
        "c = np.zeros((3,3))\n",
        "\n",
        "# 要素が1の2x3行列\n",
        "d = np.ones((2,3))\n",
        "\n",
        "# 任意の値の4x3行列\n",
        "e = np.full((4,3),4)\n",
        "\n",
        "# 単位行列\n",
        "f = np.eye(4)\n",
        "\n",
        "# ランダムな値の行列\n",
        "g = np.random.random((3,3))\n",
        "\n",
        "print(\"c:\",c)\n",
        "print(\"---\")\n",
        "print(\"d:\",d)\n",
        "print(\"---\")\n",
        "print(\"e:\",e)\n",
        "print(\"---\")\n",
        "print(\"f:\",f)\n",
        "print(\"---\")\n",
        "print(\"g:\",g)"
      ],
      "execution_count": 4,
      "outputs": [
        {
          "output_type": "stream",
          "text": [
            "c: [[0. 0. 0.]\n",
            " [0. 0. 0.]\n",
            " [0. 0. 0.]]\n",
            "---\n",
            "d: [[1. 1. 1.]\n",
            " [1. 1. 1.]]\n",
            "---\n",
            "e: [[4 4 4]\n",
            " [4 4 4]\n",
            " [4 4 4]\n",
            " [4 4 4]]\n",
            "---\n",
            "f: [[1. 0. 0. 0.]\n",
            " [0. 1. 0. 0.]\n",
            " [0. 0. 1. 0.]\n",
            " [0. 0. 0. 1.]]\n",
            "---\n",
            "g: [[0.08082169 0.67712219 0.10242365]\n",
            " [0.3970441  0.27015189 0.29370846]\n",
            " [0.8077579  0.85050149 0.44616983]]\n"
          ],
          "name": "stdout"
        }
      ]
    },
    {
      "cell_type": "markdown",
      "metadata": {
        "id": "ZmnhMd6IaNS1"
      },
      "source": [
        "#### 行列計算"
      ]
    },
    {
      "cell_type": "code",
      "metadata": {
        "colab": {
          "base_uri": "https://localhost:8080/"
        },
        "id": "FGAvqMBrZm0b",
        "outputId": "019ed482-351e-4193-a343-cc9470ee15eb"
      },
      "source": [
        "a = np.array([\n",
        "              [0,1,2],\n",
        "              [3,4,5],\n",
        "              [6,7,8]\n",
        "              ])\n",
        "b = np.eye(3)\n",
        "c = np.full((3,3),2)\n",
        "\n",
        "# 足し算\n",
        "print(a+b)\n",
        "print(\"---\")\n",
        "# 引き算\n",
        "print(a-b)\n",
        "print(\"---\")\n",
        "# 掛け算\n",
        "print(a*b)\n",
        "print(\"---\")\n",
        "# 割り算\n",
        "print(a/c)\n",
        "print(\"---\")\n",
        "# 要素ごとにn乗\n",
        "print(a ** 2)\n",
        "print(\"---\")\n",
        "# 要素ごとにn倍\n",
        "print(a*2)"
      ],
      "execution_count": 6,
      "outputs": [
        {
          "output_type": "stream",
          "text": [
            "[[1. 1. 2.]\n",
            " [3. 5. 5.]\n",
            " [6. 7. 9.]]\n",
            "---\n",
            "[[-1.  1.  2.]\n",
            " [ 3.  3.  5.]\n",
            " [ 6.  7.  7.]]\n",
            "---\n",
            "[[0. 0. 0.]\n",
            " [0. 4. 0.]\n",
            " [0. 0. 8.]]\n",
            "---\n",
            "[[0.  0.5 1. ]\n",
            " [1.5 2.  2.5]\n",
            " [3.  3.5 4. ]]\n",
            "---\n",
            "[[ 0  1  4]\n",
            " [ 9 16 25]\n",
            " [36 49 64]]\n",
            "---\n",
            "[[ 0  2  4]\n",
            " [ 6  8 10]\n",
            " [12 14 16]]\n"
          ],
          "name": "stdout"
        }
      ]
    },
    {
      "cell_type": "markdown",
      "metadata": {
        "id": "Gp_jQHkObuvi"
      },
      "source": [
        "#### 統計量"
      ]
    },
    {
      "cell_type": "code",
      "metadata": {
        "colab": {
          "base_uri": "https://localhost:8080/"
        },
        "id": "qVly_erzbSre",
        "outputId": "6b82f36c-efc3-4db9-fdd5-520c2678a38d"
      },
      "source": [
        "# 平均\n",
        "print(a.mean())\n",
        "\n",
        "# 分散\n",
        "print(a.var())\n",
        "\n",
        "# 標準偏差\n",
        "print(a.std())\n",
        "\n",
        "# 最大\n",
        "print(a.max())\n",
        "\n",
        "# 最小\n",
        "print(a.min())\n",
        "\n",
        "# 軸ごと\n",
        "print(a.min(axis = 1))\n",
        "print(a.min(axis = 0))"
      ],
      "execution_count": 10,
      "outputs": [
        {
          "output_type": "stream",
          "text": [
            "4.0\n",
            "6.666666666666667\n",
            "2.581988897471611\n",
            "8\n",
            "0\n",
            "[0 3 6]\n",
            "[0 1 2]\n"
          ],
          "name": "stdout"
        }
      ]
    },
    {
      "cell_type": "markdown",
      "metadata": {
        "id": "fN4eopLWdyd9"
      },
      "source": [
        "### matplotlib\n",
        "\n",
        "[これ](https://colab.research.google.com/github/chainer/tutorials/blob/master/ja/12_Introduction_to_Matplotlib.ipynb#scrollTo=nD6RSWpgWBpz)が参考になる。割愛"
      ]
    },
    {
      "cell_type": "markdown",
      "metadata": {
        "id": "8wLevHU_d_VJ"
      },
      "source": [
        "### OpenCV"
      ]
    },
    {
      "cell_type": "code",
      "metadata": {
        "id": "jf_W55LueA_x"
      },
      "source": [
        ""
      ],
      "execution_count": null,
      "outputs": []
    }
  ]
}